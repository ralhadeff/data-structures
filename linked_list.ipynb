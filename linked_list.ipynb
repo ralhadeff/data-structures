{
 "cells": [
  {
   "cell_type": "markdown",
   "metadata": {},
   "source": [
    "# Linked lists"
   ]
  },
  {
   "cell_type": "code",
   "execution_count": 1,
   "metadata": {},
   "outputs": [],
   "source": [
    "import numpy as np"
   ]
  },
  {
   "cell_type": "code",
   "execution_count": 63,
   "metadata": {},
   "outputs": [],
   "source": [
    "class LinkedList():\n",
    "       \n",
    "    def __init__(self,double=False):\n",
    "        self.head = None\n",
    "        self.tail = None\n",
    "        self.double = double\n",
    "    \n",
    "    def append(self,value):\n",
    "        '''Add a value to the end of the list'''\n",
    "        node = Node(value)\n",
    "        if self.tail is None:\n",
    "            self.head = node\n",
    "            self.tail = node\n",
    "        else:\n",
    "            self.tail.next = node                \n",
    "            if (self.double):\n",
    "                node.previous = self.tail\n",
    "            self.tail = node      \n",
    "    \n",
    "    def insert(self,i,value):\n",
    "        '''Add a value to position i'''\n",
    "        node = Node(value)\n",
    "        if (i==0):\n",
    "            # insert new head\n",
    "            node.next = self.head\n",
    "            if (self.double):\n",
    "                self.head.previous = node\n",
    "            self.head = node\n",
    "        else:\n",
    "            c = self.head\n",
    "            p = None\n",
    "            for ii in range(i):\n",
    "                p = c\n",
    "                c = c.next\n",
    "            p.next = node\n",
    "            node.next = c\n",
    "            if (self.double):\n",
    "                node.previous = p\n",
    "                if (c is not None):\n",
    "                    c.previous = node\n",
    "            if (c is None):\n",
    "                self.tail = node\n",
    "    \n",
    "    def delete(self,i):\n",
    "        '''Delete the element at position i'''\n",
    "        if (i==0):\n",
    "            # remove head\n",
    "            head = self.head\n",
    "            self.head = head.next\n",
    "            if (self.double):\n",
    "                self.head.previous = None\n",
    "    \n",
    "    def display(self):\n",
    "        c = self.head\n",
    "        while(c is not None):\n",
    "            print(c.value)\n",
    "            c = c.next\n",
    "        \n",
    "class Node():\n",
    "\n",
    "    def __init__(self,value):\n",
    "        self.value = value\n",
    "        self.next = None\n",
    "        self.previous = None"
   ]
  },
  {
   "cell_type": "code",
   "execution_count": 68,
   "metadata": {},
   "outputs": [
    {
     "name": "stdout",
     "output_type": "stream",
     "text": [
      "-4\n",
      "4\n",
      "11\n",
      "21\n",
      "6\n"
     ]
    }
   ],
   "source": [
    "l = LinkedList(True)\n",
    "l.append(4)\n",
    "l.append(6)\n",
    "l.insert(0,-4)\n",
    "l.insert(2,11)\n",
    "l.insert(3,21)\n",
    "\n",
    "l.display()"
   ]
  },
  {
   "cell_type": "code",
   "execution_count": 69,
   "metadata": {},
   "outputs": [
    {
     "name": "stdout",
     "output_type": "stream",
     "text": [
      "-4 4 B\n",
      "4 11 -4\n",
      "11 21 4\n",
      "21 6 11\n",
      "6 E 21\n"
     ]
    }
   ],
   "source": [
    "c = l.head\n",
    "for i in range(10):\n",
    "    if (c.next is None):\n",
    "        print(c.value,'E' , c.previous.value)\n",
    "        break\n",
    "    if (c.previous is None):\n",
    "        print(c.value, c.next.value, 'B')\n",
    "    else:\n",
    "        print(c.value, c.next.value, c.previous.value)\n",
    "    c = c.next"
   ]
  },
  {
   "cell_type": "code",
   "execution_count": 70,
   "metadata": {},
   "outputs": [
    {
     "ename": "AttributeError",
     "evalue": "'NoneType' object has no attribute 'previous'",
     "output_type": "error",
     "traceback": [
      "\u001b[0;31m---------------------------------------------------------------------------\u001b[0m",
      "\u001b[0;31mAttributeError\u001b[0m                            Traceback (most recent call last)",
      "\u001b[0;32m<ipython-input-70-7483586dc3b7>\u001b[0m in \u001b[0;36m<module>\u001b[0;34m\u001b[0m\n\u001b[1;32m      1\u001b[0m \u001b[0ml\u001b[0m \u001b[0;34m=\u001b[0m \u001b[0mLinkedList\u001b[0m\u001b[0;34m(\u001b[0m\u001b[0;32mTrue\u001b[0m\u001b[0;34m)\u001b[0m\u001b[0;34m\u001b[0m\u001b[0;34m\u001b[0m\u001b[0m\n\u001b[0;32m----> 2\u001b[0;31m \u001b[0ml\u001b[0m\u001b[0;34m.\u001b[0m\u001b[0minsert\u001b[0m\u001b[0;34m(\u001b[0m\u001b[0;36m0\u001b[0m\u001b[0;34m,\u001b[0m\u001b[0;34m-\u001b[0m\u001b[0;36m4\u001b[0m\u001b[0;34m)\u001b[0m\u001b[0;34m\u001b[0m\u001b[0;34m\u001b[0m\u001b[0m\n\u001b[0m\u001b[1;32m      3\u001b[0m \u001b[0ml\u001b[0m\u001b[0;34m.\u001b[0m\u001b[0minsert\u001b[0m\u001b[0;34m(\u001b[0m\u001b[0;36m2\u001b[0m\u001b[0;34m,\u001b[0m\u001b[0;36m11\u001b[0m\u001b[0;34m)\u001b[0m\u001b[0;34m\u001b[0m\u001b[0;34m\u001b[0m\u001b[0m\n\u001b[1;32m      4\u001b[0m \u001b[0ml\u001b[0m\u001b[0;34m.\u001b[0m\u001b[0minsert\u001b[0m\u001b[0;34m(\u001b[0m\u001b[0;36m3\u001b[0m\u001b[0;34m,\u001b[0m\u001b[0;36m21\u001b[0m\u001b[0;34m)\u001b[0m\u001b[0;34m\u001b[0m\u001b[0;34m\u001b[0m\u001b[0m\n\u001b[1;32m      5\u001b[0m \u001b[0;34m\u001b[0m\u001b[0m\n",
      "\u001b[0;32m<ipython-input-63-11e7e676f60a>\u001b[0m in \u001b[0;36minsert\u001b[0;34m(self, idx, value)\u001b[0m\n\u001b[1;32m     25\u001b[0m             \u001b[0mnode\u001b[0m\u001b[0;34m.\u001b[0m\u001b[0mnext\u001b[0m \u001b[0;34m=\u001b[0m \u001b[0mself\u001b[0m\u001b[0;34m.\u001b[0m\u001b[0mhead\u001b[0m\u001b[0;34m\u001b[0m\u001b[0;34m\u001b[0m\u001b[0m\n\u001b[1;32m     26\u001b[0m             \u001b[0;32mif\u001b[0m \u001b[0;34m(\u001b[0m\u001b[0mself\u001b[0m\u001b[0;34m.\u001b[0m\u001b[0mdouble\u001b[0m\u001b[0;34m)\u001b[0m\u001b[0;34m:\u001b[0m\u001b[0;34m\u001b[0m\u001b[0;34m\u001b[0m\u001b[0m\n\u001b[0;32m---> 27\u001b[0;31m                 \u001b[0mself\u001b[0m\u001b[0;34m.\u001b[0m\u001b[0mhead\u001b[0m\u001b[0;34m.\u001b[0m\u001b[0mprevious\u001b[0m \u001b[0;34m=\u001b[0m \u001b[0mnode\u001b[0m\u001b[0;34m\u001b[0m\u001b[0;34m\u001b[0m\u001b[0m\n\u001b[0m\u001b[1;32m     28\u001b[0m             \u001b[0mself\u001b[0m\u001b[0;34m.\u001b[0m\u001b[0mhead\u001b[0m \u001b[0;34m=\u001b[0m \u001b[0mnode\u001b[0m\u001b[0;34m\u001b[0m\u001b[0;34m\u001b[0m\u001b[0m\n\u001b[1;32m     29\u001b[0m         \u001b[0;32melse\u001b[0m\u001b[0;34m:\u001b[0m\u001b[0;34m\u001b[0m\u001b[0;34m\u001b[0m\u001b[0m\n",
      "\u001b[0;31mAttributeError\u001b[0m: 'NoneType' object has no attribute 'previous'"
     ]
    }
   ],
   "source": [
    "l = LinkedList(True)\n",
    "l.insert(0,-4)\n",
    "l.insert(2,11)\n",
    "l.insert(3,21)\n",
    "\n",
    "l.display()"
   ]
  },
  {
   "cell_type": "code",
   "execution_count": null,
   "metadata": {},
   "outputs": [],
   "source": []
  }
 ],
 "metadata": {
  "kernelspec": {
   "display_name": "Python 3",
   "language": "python",
   "name": "python3"
  },
  "language_info": {
   "codemirror_mode": {
    "name": "ipython",
    "version": 3
   },
   "file_extension": ".py",
   "mimetype": "text/x-python",
   "name": "python",
   "nbconvert_exporter": "python",
   "pygments_lexer": "ipython3",
   "version": "3.6.7"
  }
 },
 "nbformat": 4,
 "nbformat_minor": 2
}
