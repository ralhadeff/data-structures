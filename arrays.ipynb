{
 "cells": [
  {
   "cell_type": "markdown",
   "metadata": {},
   "source": [
    "# Arrays"
   ]
  },
  {
   "cell_type": "code",
   "execution_count": 3,
   "metadata": {},
   "outputs": [],
   "source": [
    "import numpy as np"
   ]
  },
  {
   "cell_type": "markdown",
   "metadata": {},
   "source": [
    "Note: I will use the numpy 1D array as the basic structure and manually construct higher dimension arrays"
   ]
  },
  {
   "cell_type": "markdown",
   "metadata": {},
   "source": [
    "### 1D array"
   ]
  },
  {
   "cell_type": "code",
   "execution_count": 6,
   "metadata": {},
   "outputs": [
    {
     "data": {
      "text/plain": [
       "array([100, 101, 102, 103, 104, 105, 106, 107, 108, 109, 110, 111, 112,\n",
       "       113, 114, 115, 116, 117, 118, 119, 120, 121, 122, 123, 124, 125,\n",
       "       126, 127, 128, 129, 130, 131, 132, 133, 134, 135, 136, 137, 138,\n",
       "       139, 140, 141, 142, 143, 144, 145, 146, 147, 148, 149, 150, 151,\n",
       "       152, 153, 154, 155, 156, 157, 158, 159, 160, 161, 162, 163, 164,\n",
       "       165, 166, 167, 168, 169, 170, 171, 172, 173, 174, 175, 176, 177,\n",
       "       178, 179, 180, 181, 182, 183, 184, 185, 186, 187, 188, 189, 190,\n",
       "       191, 192, 193, 194, 195, 196, 197, 198, 199])"
      ]
     },
     "execution_count": 6,
     "metadata": {},
     "output_type": "execute_result"
    }
   ],
   "source": [
    "# +100 to avoid confusion between the indices and the values\n",
    "array = np.array(range(100),dtype=int)+100\n",
    "array"
   ]
  },
  {
   "cell_type": "code",
   "execution_count": 7,
   "metadata": {},
   "outputs": [
    {
     "data": {
      "text/plain": [
       "122"
      ]
     },
     "execution_count": 7,
     "metadata": {},
     "output_type": "execute_result"
    }
   ],
   "source": [
    "array[22]"
   ]
  },
  {
   "cell_type": "markdown",
   "metadata": {},
   "source": [
    "### ND array"
   ]
  },
  {
   "cell_type": "code",
   "execution_count": 122,
   "metadata": {},
   "outputs": [],
   "source": [
    "class Array():\n",
    "    \n",
    "    def __init__(self,*dimensions):\n",
    "        '''\n",
    "        Create an array of arbitrary dimensions\n",
    "            for simplicity, the array will contain integers with default values of 0\n",
    "        '''\n",
    "        self.dimensions = dimensions\n",
    "        size = 1\n",
    "        for i in dimensions:\n",
    "            size*=i\n",
    "        self.size = size\n",
    "        self.d = len(dimensions)\n",
    "        self.array = np.zeros(size,dtype=int)\n",
    "        \n",
    "    def __getitem__(self,key):\n",
    "        i = self.index_to_flat(key)\n",
    "        return self.array[i]\n",
    "    \n",
    "    def __setitem__(self,idx,value):\n",
    "        i = self.index_to_flat(idx)\n",
    "        self.array[i] = value\n",
    "\n",
    "    def index_to_flat(self,idx):\n",
    "        flat_index = idx[0]\n",
    "        if idx[0]>=self.dimensions[0]:\n",
    "            raise IndexError('Index out of bound')\n",
    "        for d in range(1,len(idx)):\n",
    "            if idx[d]>=self.dimensions[d]:\n",
    "                raise IndexError('Index out of bound')\n",
    "            pos = idx[d]\n",
    "            increment = 1\n",
    "            for i in range(d):\n",
    "                increment*=self.dimensions[i]\n",
    "            flat_index+=pos*increment\n",
    "        return flat_index"
   ]
  },
  {
   "cell_type": "markdown",
   "metadata": {},
   "source": [
    "#### Example"
   ]
  },
  {
   "cell_type": "code",
   "execution_count": 118,
   "metadata": {},
   "outputs": [
    {
     "data": {
      "text/plain": [
       "array([  0,   1,   2,  10,  11,  12,  20,  21,  22,  30,  31,  32,  40,\n",
       "        41,  42, 100, 101, 102, 110, 111, 112, 120, 121, 122, 130, 131,\n",
       "       132, 140, 141, 142, 200, 201, 202, 210, 211, 212, 220, 221, 222,\n",
       "       230, 231, 232, 240, 241, 242, 300, 301, 302, 310, 311, 312, 320,\n",
       "       321, 322, 330, 331, 332, 340, 341, 342, 400, 401, 402, 410, 411,\n",
       "       412, 420, 421, 422, 430, 431, 432, 440, 441, 442, 500, 501, 502,\n",
       "       510, 511, 512, 520, 521, 522, 530, 531, 532, 540, 541, 542])"
      ]
     },
     "execution_count": 118,
     "metadata": {},
     "output_type": "execute_result"
    }
   ],
   "source": [
    "a = Array(3,5,6)\n",
    "for i in range(3):\n",
    "    for j in range(5):\n",
    "        for k in range(6):\n",
    "            a[i,j,k] = i+(j*10)+(k*100)\n",
    "a.array"
   ]
  },
  {
   "cell_type": "code",
   "execution_count": 121,
   "metadata": {},
   "outputs": [
    {
     "data": {
      "text/plain": [
       "421"
      ]
     },
     "execution_count": 121,
     "metadata": {},
     "output_type": "execute_result"
    }
   ],
   "source": [
    "a[1,2,4]"
   ]
  }
 ],
 "metadata": {
  "kernelspec": {
   "display_name": "Python 3",
   "language": "python",
   "name": "python3"
  },
  "language_info": {
   "codemirror_mode": {
    "name": "ipython",
    "version": 3
   },
   "file_extension": ".py",
   "mimetype": "text/x-python",
   "name": "python",
   "nbconvert_exporter": "python",
   "pygments_lexer": "ipython3",
   "version": "3.6.7"
  }
 },
 "nbformat": 4,
 "nbformat_minor": 2
}
